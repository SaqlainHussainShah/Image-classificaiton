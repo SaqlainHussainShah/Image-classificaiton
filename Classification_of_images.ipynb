{
  "nbformat": 4,
  "nbformat_minor": 0,
  "metadata": {
    "colab": {
      "name": "Classification of images.ipynb",
      "provenance": [],
      "collapsed_sections": [],
      "include_colab_link": true
    },
    "kernelspec": {
      "name": "python3",
      "display_name": "Python 3"
    },
    "accelerator": "GPU"
  },
  "cells": [
    {
      "cell_type": "markdown",
      "metadata": {
        "id": "view-in-github",
        "colab_type": "text"
      },
      "source": [
        "<a href=\"https://colab.research.google.com/github/SaqlainHussainShah/Image-classificaiton/blob/master/Classification_of_images.ipynb\" target=\"_parent\"><img src=\"https://colab.research.google.com/assets/colab-badge.svg\" alt=\"Open In Colab\"/></a>"
      ]
    },
    {
      "cell_type": "code",
      "metadata": {
        "id": "pFRtoyMIxg2k",
        "colab_type": "code",
        "colab": {}
      },
      "source": [
        "import numpy as np\n",
        "import pandas as pd\n",
        "from PIL import Image\n",
        "import json \n",
        "import cv2"
      ],
      "execution_count": 0,
      "outputs": []
    },
    {
      "cell_type": "code",
      "metadata": {
        "id": "7rIIczq-xlgI",
        "colab_type": "code",
        "outputId": "c71d5e38-98ed-43e4-8504-cb6490d7876d",
        "colab": {
          "base_uri": "https://localhost:8080/",
          "height": 124
        }
      },
      "source": [
        "from google.colab import drive\n",
        "drive.mount('/content/drive')"
      ],
      "execution_count": 2,
      "outputs": [
        {
          "output_type": "stream",
          "text": [
            "Go to this URL in a browser: https://accounts.google.com/o/oauth2/auth?client_id=947318989803-6bn6qk8qdgf4n4g3pfee6491hc0brc4i.apps.googleusercontent.com&redirect_uri=urn%3aietf%3awg%3aoauth%3a2.0%3aoob&response_type=code&scope=email%20https%3a%2f%2fwww.googleapis.com%2fauth%2fdocs.test%20https%3a%2f%2fwww.googleapis.com%2fauth%2fdrive%20https%3a%2f%2fwww.googleapis.com%2fauth%2fdrive.photos.readonly%20https%3a%2f%2fwww.googleapis.com%2fauth%2fpeopleapi.readonly\n",
            "\n",
            "Enter your authorization code:\n",
            "··········\n",
            "Mounted at /content/drive\n"
          ],
          "name": "stdout"
        }
      ]
    },
    {
      "cell_type": "code",
      "metadata": {
        "id": "CtOi0-C7yg4G",
        "colab_type": "code",
        "colab": {}
      },
      "source": [
        "path='/content/drive/My Drive/gen_img_data.json'\n"
      ],
      "execution_count": 0,
      "outputs": []
    },
    {
      "cell_type": "code",
      "metadata": {
        "id": "ACr2m31M7qY8",
        "colab_type": "code",
        "colab": {}
      },
      "source": [
        "with open(path, 'r') as f:\n",
        "  datastore = json.load(f)"
      ],
      "execution_count": 0,
      "outputs": []
    },
    {
      "cell_type": "code",
      "metadata": {
        "id": "wrAUpOca75kq",
        "colab_type": "code",
        "outputId": "6b92fe22-4af6-49db-b13f-874c227b0c8f",
        "colab": {
          "base_uri": "https://localhost:8080/",
          "height": 34
        }
      },
      "source": [
        "print(len(datastore))"
      ],
      "execution_count": 5,
      "outputs": [
        {
          "output_type": "stream",
          "text": [
            "23702\n"
          ],
          "name": "stdout"
        }
      ]
    },
    {
      "cell_type": "code",
      "metadata": {
        "id": "mLreA_i_8_g5",
        "colab_type": "code",
        "colab": {}
      },
      "source": [
        "def get_values_class(json_data):\n",
        "  labels=[]\n",
        "  pixel_values=[]\n",
        "  \n",
        "  for i in range(len(json_data)):\n",
        "    \n",
        "    for name, value in json_data[i].items():    # for name, age in dictionary.iteritems():  (for Python 2.x)\n",
        "      labels.append(name)\n",
        "      # print(name)\n",
        "\n",
        "      for name, value in value.items():\n",
        "        pixel_values.append(value)\n",
        "        # print(len(value))\n",
        "        # print(value)\n",
        "\n",
        "  return (pixel_values, labels)"
      ],
      "execution_count": 0,
      "outputs": []
    },
    {
      "cell_type": "code",
      "metadata": {
        "id": "WRFrGE_381hA",
        "colab_type": "code",
        "colab": {}
      },
      "source": [
        "X,y=get_values_class(datastore)"
      ],
      "execution_count": 0,
      "outputs": []
    },
    {
      "cell_type": "code",
      "metadata": {
        "id": "ffV45bc0-V5j",
        "colab_type": "code",
        "outputId": "21a41459-1ed2-4c36-c15e-abf0b283e397",
        "colab": {
          "base_uri": "https://localhost:8080/",
          "height": 34
        }
      },
      "source": [
        "type(X)"
      ],
      "execution_count": 142,
      "outputs": [
        {
          "output_type": "execute_result",
          "data": {
            "text/plain": [
              "list"
            ]
          },
          "metadata": {
            "tags": []
          },
          "execution_count": 142
        }
      ]
    },
    {
      "cell_type": "code",
      "metadata": {
        "id": "HT5AyF1QBQfz",
        "colab_type": "code",
        "outputId": "7202ea9c-3f70-4de7-e0c1-4553beb3e2a3",
        "colab": {
          "base_uri": "https://localhost:8080/",
          "height": 34
        }
      },
      "source": [
        "type(y)"
      ],
      "execution_count": 143,
      "outputs": [
        {
          "output_type": "execute_result",
          "data": {
            "text/plain": [
              "list"
            ]
          },
          "metadata": {
            "tags": []
          },
          "execution_count": 143
        }
      ]
    },
    {
      "cell_type": "code",
      "metadata": {
        "id": "UJnmZrXyBSzE",
        "colab_type": "code",
        "colab": {}
      },
      "source": [
        "df=pd.DataFrame(list(zip(X,y)),columns =['X', 'labels'])"
      ],
      "execution_count": 0,
      "outputs": []
    },
    {
      "cell_type": "code",
      "metadata": {
        "id": "jDleElX7BY-E",
        "colab_type": "code",
        "outputId": "6d47f05a-83de-4ae6-d87f-fbfa145babb9",
        "colab": {
          "base_uri": "https://localhost:8080/",
          "height": 206
        }
      },
      "source": [
        "df.head()"
      ],
      "execution_count": 151,
      "outputs": [
        {
          "output_type": "execute_result",
          "data": {
            "text/html": [
              "<div>\n",
              "<style scoped>\n",
              "    .dataframe tbody tr th:only-of-type {\n",
              "        vertical-align: middle;\n",
              "    }\n",
              "\n",
              "    .dataframe tbody tr th {\n",
              "        vertical-align: top;\n",
              "    }\n",
              "\n",
              "    .dataframe thead th {\n",
              "        text-align: right;\n",
              "    }\n",
              "</style>\n",
              "<table border=\"1\" class=\"dataframe\">\n",
              "  <thead>\n",
              "    <tr style=\"text-align: right;\">\n",
              "      <th></th>\n",
              "      <th>X</th>\n",
              "      <th>labels</th>\n",
              "    </tr>\n",
              "  </thead>\n",
              "  <tbody>\n",
              "    <tr>\n",
              "      <th>0</th>\n",
              "      <td>[0, 0, 0, 0, 0, 0, 0, 0, 0, 0, 0, 0, 0, 0, 0, ...</td>\n",
              "      <td>Ankle boot</td>\n",
              "    </tr>\n",
              "    <tr>\n",
              "      <th>1</th>\n",
              "      <td>[0, 0, 0, 0, 0, 0, 0, 0, 0, 0, 0, 0, 0, 0, 0, ...</td>\n",
              "      <td>Sandal</td>\n",
              "    </tr>\n",
              "    <tr>\n",
              "      <th>2</th>\n",
              "      <td>[0, 0, 0, 0, 0, 0, 0, 0, 0, 0, 0, 0, 0, 0, 0, ...</td>\n",
              "      <td>Sandal</td>\n",
              "    </tr>\n",
              "    <tr>\n",
              "      <th>3</th>\n",
              "      <td>[0, 0, 0, 0, 0, 0, 0, 0, 0, 0, 0, 0, 0, 0, 39,...</td>\n",
              "      <td>Ankle boot</td>\n",
              "    </tr>\n",
              "    <tr>\n",
              "      <th>4</th>\n",
              "      <td>[0, 0, 0, 0, 0, 0, 0, 0, 0, 0, 0, 0, 0, 0, 0, ...</td>\n",
              "      <td>Sandal</td>\n",
              "    </tr>\n",
              "  </tbody>\n",
              "</table>\n",
              "</div>"
            ],
            "text/plain": [
              "                                                   X      labels\n",
              "0  [0, 0, 0, 0, 0, 0, 0, 0, 0, 0, 0, 0, 0, 0, 0, ...  Ankle boot\n",
              "1  [0, 0, 0, 0, 0, 0, 0, 0, 0, 0, 0, 0, 0, 0, 0, ...      Sandal\n",
              "2  [0, 0, 0, 0, 0, 0, 0, 0, 0, 0, 0, 0, 0, 0, 0, ...      Sandal\n",
              "3  [0, 0, 0, 0, 0, 0, 0, 0, 0, 0, 0, 0, 0, 0, 39,...  Ankle boot\n",
              "4  [0, 0, 0, 0, 0, 0, 0, 0, 0, 0, 0, 0, 0, 0, 0, ...      Sandal"
            ]
          },
          "metadata": {
            "tags": []
          },
          "execution_count": 151
        }
      ]
    },
    {
      "cell_type": "code",
      "metadata": {
        "id": "JCGsUBBAy-2Z",
        "colab_type": "code",
        "colab": {}
      },
      "source": [
        "df['X'][0]=np.asarray(df['X'][0]).reshape((28,28)).astype('float32')"
      ],
      "execution_count": 0,
      "outputs": []
    },
    {
      "cell_type": "code",
      "metadata": {
        "id": "jH1EeiOOzXbw",
        "colab_type": "code",
        "colab": {
          "base_uri": "https://localhost:8080/",
          "height": 282
        },
        "outputId": "9237660b-1523-4eb7-806a-6bc729918648"
      },
      "source": [
        "plt.imshow(df['X'][0])"
      ],
      "execution_count": 153,
      "outputs": [
        {
          "output_type": "execute_result",
          "data": {
            "text/plain": [
              "<matplotlib.image.AxesImage at 0x7f8482940908>"
            ]
          },
          "metadata": {
            "tags": []
          },
          "execution_count": 153
        },
        {
          "output_type": "display_data",
          "data": {
            "image/png": "[encoded data removed]",
            "text/plain": [
              "<Figure size 432x288 with 1 Axes>"
            ]
          },
          "metadata": {
            "tags": []
          }
        }
      ]
    },
    {
      "cell_type": "code",
      "metadata": {
        "id": "mUN2rYt3Rihq",
        "colab_type": "code",
        "colab": {}
      },
      "source": [
        "X_data = []\n",
        "\n",
        "for i in range(len(df['X'])):\n",
        "  \n",
        "  image=df['X'][i]\n",
        "  image=np.asarray(image)\n",
        "\n",
        "  if image.shape[0]==1024:\n",
        "    # image.shape=(32,32)\n",
        "    df['X'][i] = image.reshape((32,32)).astype('float32')\n",
        "    # image = cv2.resize(image, dsize=(28,28), interpolation=cv2.INTER_CUBIC)\n",
        "\n",
        "  elif image.shape[0]==784:\n",
        "\n",
        "    image = image.reshape((28,28)).astype('float32')\n",
        "\n",
        "    df['X'][i] =  cv2.resize(image, dsize=(32,32), interpolation=cv2.INTER_CUBIC)\n",
        "\n",
        "    # image = image.reshape((28,28)).astype('float32')\n",
        "\n",
        "    # image.shape=(28,28)\n",
        "\n",
        "  # X_data[i]=image\n",
        "  "
      ],
      "execution_count": 0,
      "outputs": []
    },
    {
      "cell_type": "code",
      "metadata": {
        "id": "ocRLMGYKwAjI",
        "colab_type": "code",
        "colab": {
          "base_uri": "https://localhost:8080/",
          "height": 206
        },
        "outputId": "2976dea8-317a-4af2-92e2-c7d022f82099"
      },
      "source": [
        "df.head()"
      ],
      "execution_count": 155,
      "outputs": [
        {
          "output_type": "execute_result",
          "data": {
            "text/html": [
              "<div>\n",
              "<style scoped>\n",
              "    .dataframe tbody tr th:only-of-type {\n",
              "        vertical-align: middle;\n",
              "    }\n",
              "\n",
              "    .dataframe tbody tr th {\n",
              "        vertical-align: top;\n",
              "    }\n",
              "\n",
              "    .dataframe thead th {\n",
              "        text-align: right;\n",
              "    }\n",
              "</style>\n",
              "<table border=\"1\" class=\"dataframe\">\n",
              "  <thead>\n",
              "    <tr style=\"text-align: right;\">\n",
              "      <th></th>\n",
              "      <th>X</th>\n",
              "      <th>labels</th>\n",
              "    </tr>\n",
              "  </thead>\n",
              "  <tbody>\n",
              "    <tr>\n",
              "      <th>0</th>\n",
              "      <td>[[0.0, 0.0, 0.0, 0.0, 0.0, 0.0, 0.0, 0.0, 0.0,...</td>\n",
              "      <td>Ankle boot</td>\n",
              "    </tr>\n",
              "    <tr>\n",
              "      <th>1</th>\n",
              "      <td>[[0.0, 0.0, 0.0, 0.0, 0.0, 0.0, 0.0, 0.0, 0.0,...</td>\n",
              "      <td>Sandal</td>\n",
              "    </tr>\n",
              "    <tr>\n",
              "      <th>2</th>\n",
              "      <td>[[0.0, 0.0, 0.0, 0.0, 0.0, 0.0, 0.0, 0.0, 0.0,...</td>\n",
              "      <td>Sandal</td>\n",
              "    </tr>\n",
              "    <tr>\n",
              "      <th>3</th>\n",
              "      <td>[[0.0, 0.0, 0.0, 0.0, 0.0, 0.0, 0.0, 0.0, 0.0,...</td>\n",
              "      <td>Ankle boot</td>\n",
              "    </tr>\n",
              "    <tr>\n",
              "      <th>4</th>\n",
              "      <td>[[0.0, 0.0, 0.0, 0.0, 0.0, 0.0, 0.0, 0.0, 0.0,...</td>\n",
              "      <td>Sandal</td>\n",
              "    </tr>\n",
              "  </tbody>\n",
              "</table>\n",
              "</div>"
            ],
            "text/plain": [
              "                                                   X      labels\n",
              "0  [[0.0, 0.0, 0.0, 0.0, 0.0, 0.0, 0.0, 0.0, 0.0,...  Ankle boot\n",
              "1  [[0.0, 0.0, 0.0, 0.0, 0.0, 0.0, 0.0, 0.0, 0.0,...      Sandal\n",
              "2  [[0.0, 0.0, 0.0, 0.0, 0.0, 0.0, 0.0, 0.0, 0.0,...      Sandal\n",
              "3  [[0.0, 0.0, 0.0, 0.0, 0.0, 0.0, 0.0, 0.0, 0.0,...  Ankle boot\n",
              "4  [[0.0, 0.0, 0.0, 0.0, 0.0, 0.0, 0.0, 0.0, 0.0,...      Sandal"
            ]
          },
          "metadata": {
            "tags": []
          },
          "execution_count": 155
        }
      ]
    },
    {
      "cell_type": "code",
      "metadata": {
        "id": "m4Ho8uEv4n6K",
        "colab_type": "code",
        "colab": {
          "base_uri": "https://localhost:8080/",
          "height": 1000
        },
        "outputId": "05faf046-746f-4770-8170-7dd35e08a69d"
      },
      "source": [
        "df['X'][0]"
      ],
      "execution_count": 156,
      "outputs": [
        {
          "output_type": "execute_result",
          "data": {
            "text/plain": [
              "array([[  0.,   0.,   0.,   0.,   0.,   0.,   0.,   0.,   0.,   0.,   0.,\n",
              "          0.,   0.,   0.,   0.,   0.,   0.,   0.,   0.,   0.,   0.,   0.,\n",
              "          0.,   0.,   0.,   0.,   0.,   0.],\n",
              "       [  0.,   0.,   0.,   0.,   0.,   0.,   0.,   0.,   0.,   0.,   0.,\n",
              "          0.,   0.,   0.,   0.,   0.,   0.,   0.,   0.,   0.,   0.,   0.,\n",
              "          0.,   0.,   0.,   0.,   0.,   0.],\n",
              "       [  0.,   0.,   0.,   0.,   0.,   0.,   0.,   0.,   0.,   0.,   0.,\n",
              "          0.,   0.,   0.,   0.,   0.,   0.,   0.,   0.,   0.,   0.,   0.,\n",
              "          0.,   0.,   0.,   0.,   0.,   0.],\n",
              "       [  0.,   0.,   0.,   0.,   0.,   0.,   0.,   0.,   0.,   0.,   0.,\n",
              "          0.,   1.,   0.,   0.,  13.,  73.,   0.,   0.,   1.,   4.,   0.,\n",
              "          0.,   0.,   0.,   1.,   1.,   0.],\n",
              "       [  0.,   0.,   0.,   0.,   0.,   0.,   0.,   0.,   0.,   0.,   0.,\n",
              "          0.,   3.,   0.,  36., 136., 127.,  62.,  54.,   0.,   0.,   0.,\n",
              "          1.,   3.,   4.,   0.,   0.,   3.],\n",
              "       [  0.,   0.,   0.,   0.,   0.,   0.,   0.,   0.,   0.,   0.,   0.,\n",
              "          0.,   6.,   0., 102., 204., 176., 134., 144., 123.,  23.,   0.,\n",
              "          0.,   0.,   0.,  12.,  10.,   0.],\n",
              "       [  0.,   0.,   0.,   0.,   0.,   0.,   0.,   0.,   0.,   0.,   0.,\n",
              "          0.,   0.,   0., 155., 236., 207., 178., 107., 156., 161., 109.,\n",
              "         64.,  23.,  77., 130.,  72.,  15.],\n",
              "       [  0.,   0.,   0.,   0.,   0.,   0.,   0.,   0.,   0.,   0.,   0.,\n",
              "          1.,   0.,  69., 207., 223., 218., 216., 216., 163., 127., 121.,\n",
              "        122., 146., 141.,  88., 172.,  66.],\n",
              "       [  0.,   0.,   0.,   0.,   0.,   0.,   0.,   0.,   0.,   1.,   1.,\n",
              "          1.,   0., 200., 232., 232., 233., 229., 223., 223., 215., 213.,\n",
              "        164., 127., 123., 196., 229.,   0.],\n",
              "       [  0.,   0.,   0.,   0.,   0.,   0.,   0.,   0.,   0.,   0.,   0.,\n",
              "          0.,   0., 183., 225., 216., 223., 228., 235., 227., 224., 222.,\n",
              "        224., 221., 223., 245., 173.,   0.],\n",
              "       [  0.,   0.,   0.,   0.,   0.,   0.,   0.,   0.,   0.,   0.,   0.,\n",
              "          0.,   0., 193., 228., 218., 213., 198., 180., 212., 210., 211.,\n",
              "        213., 223., 220., 243., 202.,   0.],\n",
              "       [  0.,   0.,   0.,   0.,   0.,   0.,   0.,   0.,   0.,   1.,   3.,\n",
              "          0.,  12., 219., 220., 212., 218., 192., 169., 227., 208., 218.,\n",
              "        224., 212., 226., 197., 209.,  52.],\n",
              "       [  0.,   0.,   0.,   0.,   0.,   0.,   0.,   0.,   0.,   0.,   6.,\n",
              "          0.,  99., 244., 222., 220., 218., 203., 198., 221., 215., 213.,\n",
              "        222., 220., 245., 119., 167.,  56.],\n",
              "       [  0.,   0.,   0.,   0.,   0.,   0.,   0.,   0.,   0.,   4.,   0.,\n",
              "          0.,  55., 236., 228., 230., 228., 240., 232., 213., 218., 223.,\n",
              "        234., 217., 217., 209.,  92.,   0.],\n",
              "       [  0.,   0.,   1.,   4.,   6.,   7.,   2.,   0.,   0.,   0.,   0.,\n",
              "          0., 237., 226., 217., 223., 222., 219., 222., 221., 216., 223.,\n",
              "        229., 215., 218., 255.,  77.,   0.],\n",
              "       [  0.,   3.,   0.,   0.,   0.,   0.,   0.,   0.,   0.,  62., 145.,\n",
              "        204., 228., 207., 213., 221., 218., 208., 211., 218., 224., 223.,\n",
              "        219., 215., 224., 244., 159.,   0.],\n",
              "       [  0.,   0.,   0.,   0.,  18.,  44.,  82., 107., 189., 228., 220.,\n",
              "        222., 217., 226., 200., 205., 211., 230., 224., 234., 176., 188.,\n",
              "        250., 248., 233., 238., 215.,   0.],\n",
              "       [  0.,  57., 187., 208., 224., 221., 224., 208., 204., 214., 208.,\n",
              "        209., 200., 159., 245., 193., 206., 223., 255., 255., 221., 234.,\n",
              "        221., 211., 220., 232., 246.,   0.],\n",
              "       [  3., 202., 228., 224., 221., 211., 211., 214., 205., 205., 205.,\n",
              "        220., 240.,  80., 150., 255., 229., 221., 188., 154., 191., 210.,\n",
              "        204., 209., 222., 228., 225.,   0.],\n",
              "       [ 98., 233., 198., 210., 222., 229., 229., 234., 249., 220., 194.,\n",
              "        215., 217., 241.,  65.,  73., 106., 117., 168., 219., 221., 215.,\n",
              "        217., 223., 223., 224., 229.,  29.],\n",
              "       [ 75., 204., 212., 204., 193., 205., 211., 225., 216., 185., 197.,\n",
              "        206., 198., 213., 240., 195., 227., 245., 239., 223., 218., 212.,\n",
              "        209., 222., 220., 221., 230.,  67.],\n",
              "       [ 48., 203., 183., 194., 213., 197., 185., 190., 194., 192., 202.,\n",
              "        214., 219., 221., 220., 236., 225., 216., 199., 206., 186., 181.,\n",
              "        177., 172., 181., 205., 206., 115.],\n",
              "       [  0., 122., 219., 193., 179., 171., 183., 196., 204., 210., 213.,\n",
              "        207., 211., 210., 200., 196., 194., 191., 195., 191., 198., 192.,\n",
              "        176., 156., 167., 177., 210.,  92.],\n",
              "       [  0.,   0.,  74., 189., 212., 191., 175., 172., 175., 181., 185.,\n",
              "        188., 189., 188., 193., 198., 204., 209., 210., 210., 211., 188.,\n",
              "        188., 194., 192., 216., 170.,   0.],\n",
              "       [  2.,   0.,   0.,   0.,  66., 200., 222., 237., 239., 242., 246.,\n",
              "        243., 244., 221., 220., 193., 191., 179., 182., 182., 181., 176.,\n",
              "        166., 168.,  99.,  58.,   0.,   0.],\n",
              "       [  0.,   0.,   0.,   0.,   0.,   0.,   0.,  40.,  61.,  44.,  72.,\n",
              "         41.,  35.,   0.,   0.,   0.,   0.,   0.,   0.,   0.,   0.,   0.,\n",
              "          0.,   0.,   0.,   0.,   0.,   0.],\n",
              "       [  0.,   0.,   0.,   0.,   0.,   0.,   0.,   0.,   0.,   0.,   0.,\n",
              "          0.,   0.,   0.,   0.,   0.,   0.,   0.,   0.,   0.,   0.,   0.,\n",
              "          0.,   0.,   0.,   0.,   0.,   0.],\n",
              "       [  0.,   0.,   0.,   0.,   0.,   0.,   0.,   0.,   0.,   0.,   0.,\n",
              "          0.,   0.,   0.,   0.,   0.,   0.,   0.,   0.,   0.,   0.,   0.,\n",
              "          0.,   0.,   0.,   0.,   0.,   0.]], dtype=float32)"
            ]
          },
          "metadata": {
            "tags": []
          },
          "execution_count": 156
        }
      ]
    },
    {
      "cell_type": "code",
      "metadata": {
        "id": "kRA2MJNu292G",
        "colab_type": "code",
        "colab": {}
      },
      "source": [
        "# df['X']=df['X'].astype('float32')\n",
        "df['X']=np.array(df['X'].tolist())"
      ],
      "execution_count": 0,
      "outputs": []
    },
    {
      "cell_type": "code",
      "metadata": {
        "id": "4t_Wdhkx5ZRn",
        "colab_type": "code",
        "colab": {}
      },
      "source": [
        "# for i in range(len(df['X'])):\n",
        "#   image=df['X'][i]\n",
        "#   name=str(i)+'.png'\n",
        "#   cv2.imwrite(name,image)"
      ],
      "execution_count": 0,
      "outputs": []
    },
    {
      "cell_type": "code",
      "metadata": {
        "id": "5knF3Zzu4udh",
        "colab_type": "code",
        "colab": {}
      },
      "source": [
        "import cv2\n",
        "import glob\n",
        "images = np.asarray([cv2.imread(file) for file in glob.glob('/content/*.png')])"
      ],
      "execution_count": 0,
      "outputs": []
    },
    {
      "cell_type": "code",
      "metadata": {
        "id": "SG1vbZ_5DNNQ",
        "colab_type": "code",
        "colab": {}
      },
      "source": [
        "image_np_array=np.zeros((len(images),32,32,3),dtype=float)"
      ],
      "execution_count": 0,
      "outputs": []
    },
    {
      "cell_type": "code",
      "metadata": {
        "id": "iaauc3ZlDOTv",
        "colab_type": "code",
        "colab": {
          "base_uri": "https://localhost:8080/",
          "height": 34
        },
        "outputId": "ea6a333f-1360-4f1a-bce9-6af169e31b4c"
      },
      "source": [
        "image_np_array.shape"
      ],
      "execution_count": 253,
      "outputs": [
        {
          "output_type": "execute_result",
          "data": {
            "text/plain": [
              "(23702, 32, 32, 3)"
            ]
          },
          "metadata": {
            "tags": []
          },
          "execution_count": 253
        }
      ]
    },
    {
      "cell_type": "code",
      "metadata": {
        "id": "X2XGwiTFD8G4",
        "colab_type": "code",
        "colab": {
          "base_uri": "https://localhost:8080/",
          "height": 34
        },
        "outputId": "8a18ebda-03f0-49f0-8572-027378e05541"
      },
      "source": [
        "images[1].shape[2]"
      ],
      "execution_count": 254,
      "outputs": [
        {
          "output_type": "execute_result",
          "data": {
            "text/plain": [
              "3"
            ]
          },
          "metadata": {
            "tags": []
          },
          "execution_count": 254
        }
      ]
    },
    {
      "cell_type": "code",
      "metadata": {
        "id": "8esYI4wDEkdF",
        "colab_type": "code",
        "colab": {
          "base_uri": "https://localhost:8080/",
          "height": 34
        },
        "outputId": "22d20c3f-193e-495f-afa1-64b0a36072f0"
      },
      "source": [
        "images[1][20][12][1]"
      ],
      "execution_count": 255,
      "outputs": [
        {
          "output_type": "execute_result",
          "data": {
            "text/plain": [
              "182"
            ]
          },
          "metadata": {
            "tags": []
          },
          "execution_count": 255
        }
      ]
    },
    {
      "cell_type": "code",
      "metadata": {
        "id": "S9rBXZIh7Gbt",
        "colab_type": "code",
        "colab": {}
      },
      "source": [
        "for i in range(len(images)):\n",
        "\n",
        "  for x in range(images[i].shape[0]):\n",
        "    for y in range(images[i].shape[1]):\n",
        "      for z in range(images[i].shape[2]):\n",
        "        image_np_array[i][x][y][z]=images[i][x][y][z]"
      ],
      "execution_count": 0,
      "outputs": []
    },
    {
      "cell_type": "code",
      "metadata": {
        "id": "xW6m-RboFPh7",
        "colab_type": "code",
        "colab": {
          "base_uri": "https://localhost:8080/",
          "height": 283
        },
        "outputId": "596fb339-fad5-4063-af06-12257b05ee5f"
      },
      "source": [
        "plt.imshow(images[60])"
      ],
      "execution_count": 265,
      "outputs": [
        {
          "output_type": "execute_result",
          "data": {
            "text/plain": [
              "<matplotlib.image.AxesImage at 0x7f84448704a8>"
            ]
          },
          "metadata": {
            "tags": []
          },
          "execution_count": 265
        },
        {
          "output_type": "display_data",
          "data": {
            "image/png": "[encoded data removed]",
            "text/plain": [
              "<Figure size 432x288 with 1 Axes>"
            ]
          },
          "metadata": {
            "tags": []
          }
        }
      ]
    },
    {
      "cell_type": "code",
      "metadata": {
        "id": "2NgCxFxMF44x",
        "colab_type": "code",
        "colab": {
          "base_uri": "https://localhost:8080/",
          "height": 34
        },
        "outputId": "bda95c28-fe81-4d76-916b-67b030936328"
      },
      "source": [
        "from sklearn import preprocessing\n",
        "le = preprocessing.LabelEncoder()\n",
        "le.fit(df['labels'])"
      ],
      "execution_count": 260,
      "outputs": [
        {
          "output_type": "execute_result",
          "data": {
            "text/plain": [
              "LabelEncoder()"
            ]
          },
          "metadata": {
            "tags": []
          },
          "execution_count": 260
        }
      ]
    },
    {
      "cell_type": "code",
      "metadata": {
        "id": "b5hPzYYaGVph",
        "colab_type": "code",
        "colab": {}
      },
      "source": [
        "y_transform=le.transform(df['labels'])"
      ],
      "execution_count": 0,
      "outputs": []
    },
    {
      "cell_type": "code",
      "metadata": {
        "id": "5C1IgFbb8S2s",
        "colab_type": "code",
        "colab": {}
      },
      "source": [
        ""
      ],
      "execution_count": 0,
      "outputs": []
    },
    {
      "cell_type": "code",
      "metadata": {
        "id": "6yt5WMmnUmsg",
        "colab_type": "code",
        "colab": {}
      },
      "source": [
        "from sklearn.model_selection import train_test_split"
      ],
      "execution_count": 0,
      "outputs": []
    },
    {
      "cell_type": "code",
      "metadata": {
        "id": "3NA-r7vqVTfA",
        "colab_type": "code",
        "colab": {}
      },
      "source": [
        "trainX, testX, trainY, testY = train_test_split(image_np_array,y_transform, test_size=0.2, random_state=42)"
      ],
      "execution_count": 0,
      "outputs": []
    },
    {
      "cell_type": "code",
      "metadata": {
        "id": "hn0wv4io2Uzf",
        "colab_type": "code",
        "colab": {
          "base_uri": "https://localhost:8080/",
          "height": 34
        },
        "outputId": "049a1da5-9ed8-405b-ed78-4dce59154cc7"
      },
      "source": [
        "trainX.shape"
      ],
      "execution_count": 304,
      "outputs": [
        {
          "output_type": "execute_result",
          "data": {
            "text/plain": [
              "(18961, 32, 32, 3)"
            ]
          },
          "metadata": {
            "tags": []
          },
          "execution_count": 304
        }
      ]
    },
    {
      "cell_type": "code",
      "metadata": {
        "id": "qrbj5kyL1YDr",
        "colab_type": "code",
        "colab": {}
      },
      "source": [
        "from keras.models import Sequential\n",
        "from keras.layers import Dense, Activation, Conv2D, MaxPooling2D,Flatten,Dropout"
      ],
      "execution_count": 0,
      "outputs": []
    },
    {
      "cell_type": "code",
      "metadata": {
        "id": "FQWO5St2x4A9",
        "colab_type": "code",
        "colab": {}
      },
      "source": [
        "model = Sequential()\n",
        "#convolutional layer with rectified linear unit activation\n",
        "model.add(Conv2D(32, kernel_size=(3, 3),\n",
        "                 activation='relu',\n",
        "                 input_shape=(32,32,3)))\n",
        "#32 convolution filters used each of size 3x3\n",
        "#again\n",
        "model.add(Conv2D(64, (3, 3), activation='relu'))\n",
        "#64 convolution filters used each of size 3x3\n",
        "#choose the best features via pooling\n",
        "model.add(MaxPooling2D(pool_size=(2, 2)))\n",
        "#randomly turn neurons on and off to improve convergence\n",
        "model.add(Dropout(0.25))\n",
        "#flatten since too many dimensions, we only want a classification output\n",
        "model.add(Flatten())\n",
        "#fully connected to get all relevant data\n",
        "model.add(Dense(128, activation='relu'))\n",
        "#one more dropout for convergence' sake :) \n",
        "model.add(Dropout(0.5))\n",
        "#output a softmax to squash the matrix into output probabilities\n",
        "model.add(Dense(1, activation='softmax'))"
      ],
      "execution_count": 0,
      "outputs": []
    },
    {
      "cell_type": "code",
      "metadata": {
        "id": "ttNQ7E12HLnp",
        "colab_type": "code",
        "colab": {
          "base_uri": "https://localhost:8080/",
          "height": 434
        },
        "outputId": "4e95ee36-fe0e-4f8a-9cf4-bbaa6143887c"
      },
      "source": [
        "model.summary()"
      ],
      "execution_count": 307,
      "outputs": [
        {
          "output_type": "stream",
          "text": [
            "Model: \"sequential_11\"\n",
            "_________________________________________________________________\n",
            "Layer (type)                 Output Shape              Param #   \n",
            "=================================================================\n",
            "conv2d_18 (Conv2D)           (None, 30, 30, 32)        896       \n",
            "_________________________________________________________________\n",
            "conv2d_19 (Conv2D)           (None, 28, 28, 64)        18496     \n",
            "_________________________________________________________________\n",
            "max_pooling2d_8 (MaxPooling2 (None, 14, 14, 64)        0         \n",
            "_________________________________________________________________\n",
            "dropout_15 (Dropout)         (None, 14, 14, 64)        0         \n",
            "_________________________________________________________________\n",
            "flatten_8 (Flatten)          (None, 12544)             0         \n",
            "_________________________________________________________________\n",
            "dense_15 (Dense)             (None, 128)               1605760   \n",
            "_________________________________________________________________\n",
            "dropout_16 (Dropout)         (None, 128)               0         \n",
            "_________________________________________________________________\n",
            "dense_16 (Dense)             (None, 1)                 129       \n",
            "=================================================================\n",
            "Total params: 1,625,281\n",
            "Trainable params: 1,625,281\n",
            "Non-trainable params: 0\n",
            "_________________________________________________________________\n"
          ],
          "name": "stdout"
        }
      ]
    },
    {
      "cell_type": "code",
      "metadata": {
        "id": "pUAbvJOa1Cx7",
        "colab_type": "code",
        "colab": {}
      },
      "source": [
        "model.compile(loss=keras.losses.sparse_categorical_crossentropy,\n",
        "              optimizer=keras.optimizers.Adam(),\n",
        "              metrics=['accuracy'])"
      ],
      "execution_count": 0,
      "outputs": []
    },
    {
      "cell_type": "code",
      "metadata": {
        "id": "UqmYH_eT1Ovr",
        "colab_type": "code",
        "colab": {
          "base_uri": "https://localhost:8080/",
          "height": 402
        },
        "outputId": "b6368f06-e775-48b0-c6d4-2cc0cfd733bc"
      },
      "source": [
        "batch_size = 128\n",
        "num_epoch = 10\n",
        "#model training\n",
        "model_log = model.fit(trainX, trainY,\n",
        "          batch_size=batch_size,\n",
        "          epochs=num_epoch,\n",
        "          verbose=1,\n",
        "          validation_data=( testX,  testY))"
      ],
      "execution_count": 316,
      "outputs": [
        {
          "output_type": "stream",
          "text": [
            "Train on 18961 samples, validate on 4741 samples\n",
            "Epoch 1/10\n",
            "18961/18961 [==============================] - 3s 168us/step - loss: nan - acc: 0.2551 - val_loss: nan - val_acc: 0.2453\n",
            "Epoch 2/10\n",
            "18961/18961 [==============================] - 3s 144us/step - loss: nan - acc: 0.2551 - val_loss: nan - val_acc: 0.2453\n",
            "Epoch 3/10\n",
            "18961/18961 [==============================] - 3s 140us/step - loss: nan - acc: 0.2551 - val_loss: nan - val_acc: 0.2453\n",
            "Epoch 4/10\n",
            "18961/18961 [==============================] - 3s 143us/step - loss: nan - acc: 0.2551 - val_loss: nan - val_acc: 0.2453\n",
            "Epoch 5/10\n",
            "18961/18961 [==============================] - 3s 140us/step - loss: nan - acc: 0.2551 - val_loss: nan - val_acc: 0.2453\n",
            "Epoch 6/10\n",
            "18961/18961 [==============================] - 3s 138us/step - loss: nan - acc: 0.2551 - val_loss: nan - val_acc: 0.2453\n",
            "Epoch 7/10\n",
            "18961/18961 [==============================] - 3s 139us/step - loss: nan - acc: 0.2551 - val_loss: nan - val_acc: 0.2453\n",
            "Epoch 8/10\n",
            "18961/18961 [==============================] - 3s 145us/step - loss: nan - acc: 0.2551 - val_loss: nan - val_acc: 0.2453\n",
            "Epoch 9/10\n",
            "18961/18961 [==============================] - 3s 144us/step - loss: nan - acc: 0.2551 - val_loss: nan - val_acc: 0.2453\n",
            "Epoch 10/10\n",
            "18961/18961 [==============================] - 3s 141us/step - loss: nan - acc: 0.2551 - val_loss: nan - val_acc: 0.2453\n"
          ],
          "name": "stdout"
        }
      ]
    },
    {
      "cell_type": "code",
      "metadata": {
        "id": "Ju7TpvOvIkTs",
        "colab_type": "code",
        "colab": {}
      },
      "source": [
        ""
      ],
      "execution_count": 0,
      "outputs": []
    }
  ]
}