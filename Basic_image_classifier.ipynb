{
 "cells": [
  {
   "cell_type": "code",
   "execution_count": 1,
   "metadata": {},
   "outputs": [],
   "source": [
    "import numpy as np\n",
    "import pandas as pd\n",
    "from PIL import Image\n",
    "import json \n",
    "import cv2"
   ]
  },
  {
   "cell_type": "code",
   "execution_count": 4,
   "metadata": {},
   "outputs": [],
   "source": [
    "path='./dataset/gen_img_data.json'"
   ]
  },
  {
   "cell_type": "code",
   "execution_count": 5,
   "metadata": {},
   "outputs": [],
   "source": [
    "with open(path, 'r') as f:\n",
    "  datastore = json.load(f)"
   ]
  },
  {
   "cell_type": "code",
   "execution_count": 6,
   "metadata": {},
   "outputs": [
    {
     "name": "stdout",
     "output_type": "stream",
     "text": [
      "23702\n"
     ]
    }
   ],
   "source": [
    "print(len(datastore))"
   ]
  },
  {
   "cell_type": "code",
   "execution_count": 7,
   "metadata": {},
   "outputs": [],
   "source": [
    "def get_values_class(json_data):\n",
    "    labels=[]\n",
    "    pixel_values=[]\n",
    "    for i in range(len(json_data)):\n",
    "    \n",
    "        for name, value in json_data[i].items():    # for name, age in dictionary.iteritems():  (for Python 2.x)\n",
    "            labels.append(name)\n",
    "      # print(name)\n",
    "\n",
    "            for name, value in value.items():\n",
    "                pixel_values.append(value)\n",
    "        # print(len(value))\n",
    "        # print(value)\n",
    "\n",
    "    return (pixel_values, labels)"
   ]
  },
  {
   "cell_type": "code",
   "execution_count": 8,
   "metadata": {},
   "outputs": [],
   "source": [
    "X,y=get_values_class(datastore)"
   ]
  },
  {
   "cell_type": "code",
   "execution_count": 9,
   "metadata": {},
   "outputs": [],
   "source": [
    "df=pd.DataFrame(list(zip(X,y)),columns =['X', 'labels'])"
   ]
  },
  {
   "cell_type": "code",
   "execution_count": 11,
   "metadata": {},
   "outputs": [],
   "source": [
    "X_data = []\n",
    "\n",
    "for i in range(len(df['X'])):\n",
    "    image=df['X'][i]\n",
    "    image=np.asarray(image)\n",
    "\n",
    "    if image.shape[0]==1024:\n",
    "    # image.shape=(32,32)\n",
    "        df['X'][i] = image.reshape((32,32)).astype('float32')\n",
    "    # image = cv2.resize(image, dsize=(28,28), interpolation=cv2.INTER_CUBIC)\n",
    "\n",
    "    elif image.shape[0]==784:\n",
    "\n",
    "        image = image.reshape((28,28)).astype('float32')\n",
    "\n",
    "        df['X'][i] =  cv2.resize(image, dsize=(32,32), interpolation=cv2.INTER_CUBIC)\n",
    "\n",
    "    # image = image.reshape((28,28)).astype('float32')\n",
    "\n",
    "    # image.shape=(28,28)\n",
    "\n",
    "  # X_data[i]=image\n",
    "  "
   ]
  },
  {
   "cell_type": "code",
   "execution_count": 12,
   "metadata": {},
   "outputs": [],
   "source": [
    "for i in range(len(df['X'])):\n",
    "    image=df['X'][i]\n",
    "    name=\"./dataset/\"+str(i)+'.png'\n",
    "    cv2.imwrite(name,image)"
   ]
  },
  {
   "cell_type": "code",
   "execution_count": 13,
   "metadata": {},
   "outputs": [],
   "source": [
    "import cv2\n",
    "import glob\n",
    "images = np.asarray([cv2.imread(file) for file in glob.glob('./dataset/*.png')])"
   ]
  },
  {
   "cell_type": "code",
   "execution_count": 14,
   "metadata": {},
   "outputs": [],
   "source": [
    "image_np_array=np.zeros((len(images),32,32,3),dtype=float)"
   ]
  },
  {
   "cell_type": "code",
   "execution_count": 15,
   "metadata": {},
   "outputs": [
    {
     "data": {
      "text/plain": [
       "(23702, 32, 32, 3)"
      ]
     },
     "execution_count": 15,
     "metadata": {},
     "output_type": "execute_result"
    }
   ],
   "source": [
    "image_np_array.shape"
   ]
  },
  {
   "cell_type": "code",
   "execution_count": 16,
   "metadata": {},
   "outputs": [
    {
     "data": {
      "text/plain": [
       "(23702, 32, 32, 3)"
      ]
     },
     "execution_count": 16,
     "metadata": {},
     "output_type": "execute_result"
    }
   ],
   "source": [
    "images.shape"
   ]
  },
  {
   "cell_type": "code",
   "execution_count": 18,
   "metadata": {},
   "outputs": [],
   "source": [
    "for i in range(len(images)):\n",
    "\n",
    "    for x in range(images[i].shape[0]):\n",
    "        for y in range(images[i].shape[1]):\n",
    "            for z in range(images[i].shape[2]):\n",
    "                image_np_array[i][x][y][z]=images[i][x][y][z]"
   ]
  },
  {
   "cell_type": "code",
   "execution_count": 19,
   "metadata": {},
   "outputs": [
    {
     "data": {
      "text/plain": [
       "LabelEncoder()"
      ]
     },
     "execution_count": 19,
     "metadata": {},
     "output_type": "execute_result"
    }
   ],
   "source": [
    "from sklearn import preprocessing\n",
    "le = preprocessing.LabelEncoder()\n",
    "le.fit(df['labels'])"
   ]
  },
  {
   "cell_type": "code",
   "execution_count": 20,
   "metadata": {},
   "outputs": [],
   "source": [
    "y_transform=le.transform(df['labels'])"
   ]
  },
  {
   "cell_type": "code",
   "execution_count": 21,
   "metadata": {},
   "outputs": [],
   "source": [
    "from tensorflow.keras import utils as np_utils\n",
    "Y_train = np_utils.to_categorical(y_transform, num_classes = 6)"
   ]
  },
  {
   "cell_type": "code",
   "execution_count": 22,
   "metadata": {},
   "outputs": [],
   "source": [
    "from sklearn.model_selection import train_test_split"
   ]
  },
  {
   "cell_type": "code",
   "execution_count": 23,
   "metadata": {},
   "outputs": [],
   "source": [
    "trainX, testX, trainY, testY = train_test_split(image_np_array,Y_train, test_size=0.2, random_state=42)"
   ]
  },
  {
   "cell_type": "code",
   "execution_count": 24,
   "metadata": {},
   "outputs": [
    {
     "name": "stderr",
     "output_type": "stream",
     "text": [
      "Using TensorFlow backend.\n"
     ]
    }
   ],
   "source": [
    "from keras.models import Sequential\n",
    "from keras.layers import Dense, Activation, Conv2D, MaxPooling2D,Flatten,Dropout"
   ]
  },
  {
   "cell_type": "code",
   "execution_count": 25,
   "metadata": {},
   "outputs": [],
   "source": [
    "model = Sequential()\n",
    "#convolutional layer with rectified linear unit activation\n",
    "model.add(Conv2D(32, kernel_size=(3, 3),\n",
    "                 activation='relu',\n",
    "                 input_shape=(32,32,3)))\n",
    "#32 convolution filters used each of size 3x3\n",
    "#again\n",
    "model.add(Conv2D(64, (3, 3), activation='relu'))\n",
    "#64 convolution filters used each of size 3x3\n",
    "#choose the best features via pooling\n",
    "model.add(MaxPooling2D(pool_size=(2, 2)))\n",
    "#randomly turn neurons on and off to improve convergence\n",
    "model.add(Dropout(0.25))\n",
    "#flatten since too many dimensions, we only want a classification output\n",
    "model.add(Flatten())\n",
    "#fully connected to get all relevant data\n",
    "model.add(Dense(128, activation='relu'))\n",
    "#one more dropout for convergence' sake :) \n",
    "model.add(Dropout(0.5))\n",
    "#output a softmax to squash the matrix into output probabilities\n",
    "model.add(Dense(6, activation='softmax'))"
   ]
  },
  {
   "cell_type": "code",
   "execution_count": 26,
   "metadata": {},
   "outputs": [
    {
     "name": "stdout",
     "output_type": "stream",
     "text": [
      "Model: \"sequential_1\"\n",
      "_________________________________________________________________\n",
      "Layer (type)                 Output Shape              Param #   \n",
      "=================================================================\n",
      "conv2d_1 (Conv2D)            (None, 30, 30, 32)        896       \n",
      "_________________________________________________________________\n",
      "conv2d_2 (Conv2D)            (None, 28, 28, 64)        18496     \n",
      "_________________________________________________________________\n",
      "max_pooling2d_1 (MaxPooling2 (None, 14, 14, 64)        0         \n",
      "_________________________________________________________________\n",
      "dropout_1 (Dropout)          (None, 14, 14, 64)        0         \n",
      "_________________________________________________________________\n",
      "flatten_1 (Flatten)          (None, 12544)             0         \n",
      "_________________________________________________________________\n",
      "dense_1 (Dense)              (None, 128)               1605760   \n",
      "_________________________________________________________________\n",
      "dropout_2 (Dropout)          (None, 128)               0         \n",
      "_________________________________________________________________\n",
      "dense_2 (Dense)              (None, 6)                 774       \n",
      "=================================================================\n",
      "Total params: 1,625,926\n",
      "Trainable params: 1,625,926\n",
      "Non-trainable params: 0\n",
      "_________________________________________________________________\n"
     ]
    }
   ],
   "source": [
    "model.summary()"
   ]
  },
  {
   "cell_type": "code",
   "execution_count": 29,
   "metadata": {},
   "outputs": [],
   "source": [
    "import keras\n",
    "model.compile(loss=keras.losses.categorical_crossentropy,\n",
    "              optimizer=keras.optimizers.Adam(),\n",
    "              metrics=['accuracy'])"
   ]
  },
  {
   "cell_type": "code",
   "execution_count": 30,
   "metadata": {},
   "outputs": [
    {
     "name": "stdout",
     "output_type": "stream",
     "text": [
      "Train on 18961 samples, validate on 4741 samples\n",
      "Epoch 1/10\n",
      "18961/18961 [==============================] - 22s 1ms/step - loss: 11.6928 - accuracy: 0.2305 - val_loss: 1.6123 - val_accuracy: 0.2449\n",
      "Epoch 2/10\n",
      "18961/18961 [==============================] - 19s 1ms/step - loss: 1.6288 - accuracy: 0.2543 - val_loss: 1.5961 - val_accuracy: 0.2512\n",
      "Epoch 3/10\n",
      "18961/18961 [==============================] - 20s 1ms/step - loss: 1.5974 - accuracy: 0.2668 - val_loss: 1.5900 - val_accuracy: 0.2428\n",
      "Epoch 4/10\n",
      "18961/18961 [==============================] - 20s 1ms/step - loss: 1.5860 - accuracy: 0.2681 - val_loss: 1.5877 - val_accuracy: 0.2440\n",
      "Epoch 5/10\n",
      "18961/18961 [==============================] - 20s 1ms/step - loss: 1.5769 - accuracy: 0.2809 - val_loss: 1.5911 - val_accuracy: 0.2464\n",
      "Epoch 6/10\n",
      "18961/18961 [==============================] - 20s 1ms/step - loss: 1.5661 - accuracy: 0.2884 - val_loss: 1.5842 - val_accuracy: 0.2478\n",
      "Epoch 7/10\n",
      "18961/18961 [==============================] - 19s 997us/step - loss: 1.5590 - accuracy: 0.2906 - val_loss: 1.5957 - val_accuracy: 0.2405\n",
      "Epoch 8/10\n",
      "18961/18961 [==============================] - 19s 984us/step - loss: 1.5430 - accuracy: 0.3004 - val_loss: 1.6010 - val_accuracy: 0.2470\n",
      "Epoch 9/10\n",
      "18961/18961 [==============================] - 20s 1ms/step - loss: 1.5286 - accuracy: 0.3156 - val_loss: 1.6092 - val_accuracy: 0.2386\n",
      "Epoch 10/10\n",
      "18961/18961 [==============================] - 21s 1ms/step - loss: 1.5105 - accuracy: 0.3240 - val_loss: 1.6244 - val_accuracy: 0.2419\n"
     ]
    }
   ],
   "source": [
    "batch_size = 128\n",
    "num_epoch = 10\n",
    "#model training\n",
    "model_log = model.fit(trainX, trainY,\n",
    "          batch_size=batch_size,\n",
    "          epochs=num_epoch,\n",
    "          verbose=1,\n",
    "          validation_data=( testX,  testY))"
   ]
  },
  {
   "cell_type": "code",
   "execution_count": null,
   "metadata": {},
   "outputs": [],
   "source": []
  }
 ],
 "metadata": {
  "kernelspec": {
   "display_name": "Python 3",
   "language": "python",
   "name": "python3"
  },
  "language_info": {
   "codemirror_mode": {
    "name": "ipython",
    "version": 3
   },
   "file_extension": ".py",
   "mimetype": "text/x-python",
   "name": "python",
   "nbconvert_exporter": "python",
   "pygments_lexer": "ipython3",
   "version": "3.7.6"
  }
 },
 "nbformat": 4,
 "nbformat_minor": 4
}
